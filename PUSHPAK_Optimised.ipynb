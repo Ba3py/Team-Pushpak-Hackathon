{
 "cells": [
  {
   "cell_type": "code",
   "execution_count": null,
   "metadata": {},
   "outputs": [],
   "source": [
    "!pip install onednn-cpu-gomp\n",
    "import oneDNN as dnn\n",
    "import os\n",
    "os.environ['TF_ENABLE_ONEDNN_OPTS'] = '1'\n",
    "os.environ['TF_ENABLE_AUTO_MIXED_PRECISION'] = '1'\n",
    "os.environ['DNNL_ENGINE_LIMIT_CPU_CAPABILITIES'] = '0'\n",
    "os.environ['DNNL_VERBOSE'] = '1'\n",
    "os.environ['SYCL_DEVICE_FILTER'] = 'opencl:gpu'"
   ]
  },
  {
   "cell_type": "code",
   "execution_count": null,
   "metadata": {},
   "outputs": [],
   "source": [
    "!pip install scikit-learn-intelex\n",
    "from sklearn import patch_sklearn\n",
    "from sklearn.preprocessing import StandardScaler\n",
    "patch_sklearn()"
   ]
  },
  {
   "cell_type": "code",
   "execution_count": null,
   "metadata": {},
   "outputs": [],
   "source": [
    "import os\n",
    "import numpy as np\n",
    "import cv2\n",
    "import imghdr\n",
    "import tensorflow as tf\n",
    "from tensorflow.keras.models import Sequential\n",
    "from tensorflow.keras.layers import Conv2D, MaxPooling2D, Dense, Flatten\n",
    "from sklearn.model_selection import train_test_split\n",
    "from sklearn.preprocessing import LabelEncoder\n",
    "from sklearn.utils import shuffle\n",
    "from daal4py import normalization_zscore"
   ]
  },
  {
   "attachments": {},
   "cell_type": "markdown",
   "metadata": {},
   "source": [
    "funct to load using OneDAL\n"
   ]
  },
  {
   "cell_type": "code",
   "execution_count": null,
   "metadata": {},
   "outputs": [],
   "source": [
    "def load_and_preprocess_image(image_path):\n",
    "    try:\n",
    "        img = cv2.imread(image_path)\n",
    "        tip = imghdr.what(image_path)\n",
    "        if tip not in image_exts:\n",
    "            print(\"Image not in ext list{}\".format(image_path))\n",
    "            os.remove(image_path)\n",
    "            return None\n",
    "        # Resize the image to desired dimensions (e.g., 256x256)\n",
    "        img_resized = cv2.resize(img, (256, 256))\n",
    "        return img_resized\n",
    "    except Exception as e:\n",
    "        print('issue with image{}'.format(image_path))\n",
    "        return None"
   ]
  },
  {
   "cell_type": "code",
   "execution_count": null,
   "metadata": {},
   "outputs": [],
   "source": [
    "data_dir = 'data'\n",
    "image_exts = ['jpeg', 'jpg', 'bmp', 'png']\n",
    "\n",
    "# Load and preprocess images using OneDAL\n",
    "X_data = []\n",
    "y_data = []\n",
    "for image_class in os.listdir(data_dir):\n",
    "    print(image_class)\n",
    "    for image in os.listdir(os.path.join(data_dir, image_class)):\n",
    "        image_path = os.path.join(data_dir, image_class, image)\n",
    "        img_preprocessed = load_and_preprocess_image(image_path)\n",
    "        if img_preprocessed is not None:\n",
    "            X_data.append(img_preprocessed)\n",
    "            y_data.append(image_class)"
   ]
  },
  {
   "cell_type": "code",
   "execution_count": null,
   "metadata": {},
   "outputs": [],
   "source": [
    "label_encoder = LabelEncoder()\n",
    "y_data_encoded = label_encoder.fit_transform(y_data)\n",
    "\n",
    "# Shuffle and split the data into training, validation, and test sets\n",
    "X_data, y_data_encoded = shuffle(X_data, y_data_encoded)\n",
    "X_train, X_test, y_train, y_test = train_test_split(X_data, y_data_encoded, test_size=0.1, random_state=42)\n",
    "X_train, X_val, y_train, y_val = train_test_split(X_train, y_train, test_size=0.2, random_state=42)\n",
    "\n",
    "# Normalize the image data using OneDAL\n",
    "X_train_normalized = np.array([normalization_zscore(X_train[i].astype(np.float64)).compute().values for i in range(len(X_train))])\n",
    "X_val_normalized = np.array([normalization_zscore(X_val[i].astype(np.float64)).compute().values for i in range(len(X_val))])\n",
    "X_test_normalized = np.array([normalization_zscore(X_test[i].astype(np.float64)).compute().values for i in range(len(X_test))])"
   ]
  },
  {
   "attachments": {},
   "cell_type": "markdown",
   "metadata": {},
   "source": [
    "Model Making\n"
   ]
  },
  {
   "cell_type": "code",
   "execution_count": null,
   "metadata": {},
   "outputs": [],
   "source": [
    "model = Sequential([\n",
    "    Conv2D(16, (3, 3), activation='relu', input_shape=(256, 256, 3)),\n",
    "    MaxPooling2D(),\n",
    "    Conv2D(32, (3, 3), activation='relu'),\n",
    "    MaxPooling2D(),\n",
    "    Conv2D(16, (3, 3), activation='relu'),\n",
    "    MaxPooling2D(),\n",
    "    Flatten(),\n",
    "    Dense(256, activation='relu'),\n",
    "    Dense(1, activation='sigmoid')\n",
    "])\n",
    "\n",
    "# Compile the model\n",
    "model.compile(optimizer='adam', loss='binary_crossentropy', metrics=['accuracy'])\n",
    "\n",
    "# Train the model\n",
    "history = model.fit(X_train_normalized, y_train, epochs=20, validation_data=(X_val_normalized, y_val))\n",
    "\n",
    "# Evaluate the model\n",
    "test_loss, test_accuracy = model.evaluate(X_test_normalized, y_test)\n",
    "print(f'Test Loss: {test_loss}, Test Accuracy: {test_accuracy}')\n",
    "\n",
    "# Save the trained model\n",
    "model.save('esophagelvarice_intel_efficient.h5')"
   ]
  },
  {
   "attachments": {},
   "cell_type": "markdown",
   "metadata": {},
   "source": [
    "Decision Making"
   ]
  },
  {
   "cell_type": "code",
   "execution_count": null,
   "metadata": {},
   "outputs": [],
   "source": [
    "new_model=load_model(os.path.join('Models','esophagealvarice.h5'))\n",
    "probab=new_model.predict(np.expand_dims(resizeimg/255,0))\n",
    "if probab > 0.7:\n",
    "    print(\"High risk varice! Banding is definitely required.\")\n",
    "elif probab > 0.5:\n",
    "    print(\"High risk varice with chances of bleeding. Final diagnosis by doctor required.\")\n",
    "else:\n",
    "    print(\"Low risk varice with low chances of bleeding.\")"
   ]
  }
 ],
 "metadata": {
  "kernelspec": {
   "display_name": "Python 3",
   "language": "python",
   "name": "python3"
  },
  "language_info": {
   "codemirror_mode": {
    "name": "ipython",
    "version": 3
   },
   "file_extension": ".py",
   "mimetype": "text/x-python",
   "name": "python",
   "nbconvert_exporter": "python",
   "pygments_lexer": "ipython3",
   "version": "3.11.8"
  },
  "orig_nbformat": 4
 },
 "nbformat": 4,
 "nbformat_minor": 2
}
